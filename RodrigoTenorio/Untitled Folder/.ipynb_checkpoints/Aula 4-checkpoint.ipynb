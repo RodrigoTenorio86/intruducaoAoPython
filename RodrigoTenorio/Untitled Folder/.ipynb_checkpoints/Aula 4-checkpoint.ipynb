{
 "cells": [
  {
   "cell_type": "markdown",
   "metadata": {},
   "source": [
    "\n",
    "# Aula 1"
   ]
  },
  {
   "cell_type": "code",
   "execution_count": 5,
   "metadata": {},
   "outputs": [],
   "source": [
    "\n",
    "import math\n",
    "\n",
    "\n",
    "def ex_01():\n",
    "    metro =int(input(\"Digite valor em Metro? \"))\n",
    "    centimetro = metro * 100\n",
    "    print(\"Valor em centímetros {}\".format(centimetro))"
   ]
  },
  {
   "cell_type": "code",
   "execution_count": 9,
   "metadata": {},
   "outputs": [],
   "source": [
    "def ex_02():\n",
    "    raio =float(input(\"Digite o raio de Circulo: \"))\n",
    "    area_circulo = math.pi * math.pow(raio,2)\n",
    "    print(\"Area do Circulo {}\".format(area_circulo))"
   ]
  },
  {
   "cell_type": "code",
   "execution_count": 10,
   "metadata": {},
   "outputs": [],
   "source": [
    "def ex_03():\n",
    "    lado = float(input(\"Digite valor de um dos lados do Quadrado? \"))\n",
    "    area_quadrado = lado * lado \n",
    "    print(\"Area do Quadrado {} e seu valor em dobro e {}\".format(area_quadrado,area_quadrado*area_quadrado))"
   ]
  },
  {
   "cell_type": "code",
   "execution_count": 13,
   "metadata": {},
   "outputs": [],
   "source": [
    "def ex_05():\n",
    "    valor_hora = float(input(\"Digite valor ganho por Hora \"))\n",
    "    hora_mes   = float(input(\"Digite quantas horas de trabalho em um mes? \"))\n",
    "    salario_mes = valor_hora * hora_mes\n",
    "    print(\"Valor de Salario do Mes {}\".format(salario_mes))"
   ]
  },
  {
   "cell_type": "code",
   "execution_count": 12,
   "metadata": {},
   "outputs": [],
   "source": [
    "def ex_06():\n",
    "    farenheit = float(input(\"Digite valor em Farenheit: \"))\n",
    "    celsius   = (5 * (farenheit - 32)/9)\n",
    "    print(\"Valor da Temperatura em Celsius {}\".format(celsius))"
   ]
  },
  {
   "cell_type": "code",
   "execution_count": 20,
   "metadata": {},
   "outputs": [],
   "source": [
    "def ex_07():\n",
    "    inteiro_1 = int(input(\"Digite Primeiro Numero Inteiro: \"))\n",
    "    inteiro_2 = int(input(\"Digite Segundo Numero Inteiro: \"))\n",
    "    real      = float(input(\"Digite um Numero Real: \"))\n",
    "    valor_a = (inteiro_1 * inteiro_1) * (inteiro_2 /2)\n",
    "    valor_b = (math.pow(inteiro_2,3) + real)\n",
    "    valor_c = math.pow(real,3)\n",
    "    print(\"o produto do dobro do primeiro com metade do segundo .RESP: {}\".format(valor_a))\n",
    "    print(\"a soma do triplo do primeiro com o terceiro. {}\".format(valor_b))\n",
    "    print(\"o terceiro elevado ao cubo. {}\".format(valor_c))\n"
   ]
  },
  {
   "cell_type": "code",
   "execution_count": 21,
   "metadata": {},
   "outputs": [],
   "source": [
    "def ex_08():\n",
    "    altura = float(input(\"Digite sua Altura: \"))\n",
    "    sexo   = input(\"Digite seu Sexo (M) para masculino ou (F) para Feminino: \")\n",
    "    peso_ideal = 0.0\n",
    "    if(sexo.upper() == \"M\"):\n",
    "        peso_ideal = (72.7 * altura) - 58\n",
    "    elif(sexo.upper() == \"F\"):\n",
    "        peso_ideal = (62.1 * altura) - 44.7\n",
    "    else:\n",
    "        print(\"Valor incorreto para sexo.\")    \n",
    "    print(\"Peso Ideal e {:.02f}\".format(peso_ideal))"
   ]
  },
  {
   "cell_type": "code",
   "execution_count": 22,
   "metadata": {},
   "outputs": [],
   "source": [
    "def ex_09():\n",
    "    peso_peixe = float(input(\"Qual peso do Peixe: \"))\n",
    "    if(peso_peixe > 50):\n",
    "        excedente = peso_peixe - 50\n",
    "        multa = excedente * 4\n",
    "        print(\"Peso do peixe em excesso {} e valor Multa R${}\".format(excedente,multa))\n",
    "    else:\n",
    "        print(\"Peso dentro dos limites.\")"
   ]
  },
  {
   "cell_type": "code",
   "execution_count": 23,
   "metadata": {},
   "outputs": [],
   "source": [
    "def ex_10():\n",
    "    valor_hora = float(input(\"Digite valor ganho por Hora \"))\n",
    "    hora_mes   = float(input(\"Digite quantas horas de trabalho em um mes? \"))\n",
    "    salario_bruto = valor_hora * hora_mes\n",
    "    ir   = salario_bruto * 0.11\n",
    "    inss = salario_bruto * 0.08\n",
    "    sind = salario_bruto * 0.05\n",
    "    salario_liq = salario_bruto - (ir+inss+sind)\n",
    "\n",
    "    print(\"Valor de Salario Liquido do mes {}\".format(salario_liq))"
   ]
  },
  {
   "cell_type": "code",
   "execution_count": 26,
   "metadata": {},
   "outputs": [],
   "source": [
    "def run():\n",
    "    ex_01()\n",
    "    ex_02()\n",
    "    ex_03()\n",
    "    ex_05()\n",
    "    ex_06()\n",
    "    ex_07()\n",
    "    ex_08()\n",
    "    ex_09()\n",
    "    ex_10()"
   ]
  },
  {
   "cell_type": "markdown",
   "metadata": {},
   "source": [
    "# Aula 2"
   ]
  },
  {
   "cell_type": "markdown",
   "metadata": {},
   "source": [
    "## EStrutura de Dados"
   ]
  },
  {
   "cell_type": "code",
   "execution_count": 27,
   "metadata": {},
   "outputs": [],
   "source": [
    "import math\n",
    "import numbers"
   ]
  },
  {
   "cell_type": "code",
   "execution_count": 28,
   "metadata": {},
   "outputs": [],
   "source": [
    "def ex_02():\n",
    "    nome = input(\"Digite seu Nome: \")\n",
    "    for letra in nome:\n",
    "        print(letra)"
   ]
  },
  {
   "cell_type": "code",
   "execution_count": 29,
   "metadata": {},
   "outputs": [],
   "source": [
    "def ex_03():\n",
    "    notas = []\n",
    "    for i in range(1,5):\n",
    "        notas.append( float( input(\"Digite nota{} \".format(i))) )\n",
    "    media = sum(notas) / len(notas)\n",
    "    print(\"media da nota {:.02f}\".format(media))"
   ]
  },
  {
   "cell_type": "code",
   "execution_count": 30,
   "metadata": {},
   "outputs": [],
   "source": [
    "def ex_04():\n",
    "    letras = []\n",
    "    vogais = [\"A\", \"E\", \"I\", \"O\", \"U\"]\n",
    "    total_consoante = 0\n",
    "    for i in range(0,10):        \n",
    "        letras.append( input(\"Digite uma letra \").upper())\n",
    "    for consoante in letras:\n",
    "            if (consoante not in vogais ):\n",
    "                print(consoante)\n",
    "                total_consoante = total_consoante +1\n",
    "\n",
    "    print(total_consoante) "
   ]
  },
  {
   "cell_type": "code",
   "execution_count": 31,
   "metadata": {},
   "outputs": [],
   "source": [
    "def ex_05():\n",
    "    numeros=[]\n",
    "    par = []\n",
    "    impar = []\n",
    "    for i in range(0,20):\n",
    "        numeros.append(int(input(\"Digite um numero: \")))\n",
    "    for numero in numeros:\n",
    "        if(numero%2==0):\n",
    "            par.append(numero)\n",
    "        else:\n",
    "            impar.append(numero)    \n",
    "    print(numeros)        \n",
    "    print(par)\n",
    "    print(impar)"
   ]
  },
  {
   "cell_type": "code",
   "execution_count": 32,
   "metadata": {},
   "outputs": [],
   "source": [
    "def ex_06():\n",
    "    meses=[\"0\",\"Janeiro\",\"Fevereiro\",\"Marco\",\"Abril\",\"Maio\",\"Junho\",\"Julho\",\"Agosto\",\"Stembro\",\"Outubro\",\"Novembro\",\"Dezembro\"]\n",
    "    dia = int(input(\"Digite dia do Nascimento: \"))\n",
    "    mes = int(input(\"Digite mes de Nascimento: \"))\n",
    "    ano = int(input(\"Digite ano de Nascimento: \"))\n",
    "    print(\"Data Nascimento {} de {}  de {}\".format(dia,meses[mes],ano))"
   ]
  },
  {
   "cell_type": "code",
   "execution_count": 33,
   "metadata": {},
   "outputs": [],
   "source": [
    "def ex_07():\n",
    "    turma=[]\n",
    "    for i in range(0,5):\n",
    "        alunos = []\n",
    "        nome_aluno = input(\"Digite nome do Aluno: \")\n",
    "        alunos.append(nome_aluno)   \n",
    "        nota_total = 0   \n",
    "        for j in range(0,4):\n",
    "            nota = float(input(\"Digite notas do aluno {} \".format(nome_aluno)))\n",
    "            alunos.append(nota)\n",
    "            nota_total = nota_total + nota\n",
    "        media= nota_total / 4\n",
    "        alunos.append(media)\n",
    "        turma.append(alunos)\n",
    "    contador = 0\n",
    "    for i in range(0,5):\n",
    "        if(turma[i][5] >= 7):\n",
    "            contador = contador +1\n",
    "    print(\"Numero total de alunos com média maior ou igual a 7.0 é {}\".format(contador))"
   ]
  },
  {
   "cell_type": "code",
   "execution_count": 34,
   "metadata": {},
   "outputs": [],
   "source": [
    "def ex_08():\n",
    "    String_1 = input(\"Digite uma frase: \")\n",
    "    String_2 = input(\"Digite outra frase: \")\n",
    "    print(\"String1: {}\".format(String_1))\n",
    "    print(\"String2: {}\".format(String_2))\n",
    "    frase1 = []\n",
    "    frase2 = []\n",
    "    for letra in String_1:\n",
    "        frase1.append(letra)\n",
    "    for letra in String_2:\n",
    "        frase2.append(letra)\n",
    "    print(\"Tamanho de {}\"\" : \" \"{} caracteres\".format(String_1,len(frase1)))\n",
    "    print(\"Tamanho de {}\"\" : \" \"{} caracteres\".format(String_2,len(frase2)))\n",
    "    if(len(String_1)==len(String_2)):\n",
    "        print(\"As duas strings são de tamanhos Igual.\")\n",
    "    else:\n",
    "        print(\"As duas strings são de tamanhos diferentes.\")\n",
    "    if(frase1 == frase2):\n",
    "        print(\"As duas strings possuem conteúdo Igual.\")\n",
    "    else:\n",
    "        print(\"As duas strings possuem conteúdo diferente.\")"
   ]
  },
  {
   "cell_type": "code",
   "execution_count": 35,
   "metadata": {},
   "outputs": [],
   "source": [
    "def ex_09():\n",
    "    vetor = []\n",
    "    soma = 0\n",
    "    multiplicacao = 1\n",
    "    for i in range(0, 5):\n",
    "        numero_inteiro = int(input(\"Digite um Numero Inteiro: \"))\n",
    "        vetor.append(numero_inteiro)\n",
    "    for num in vetor:\n",
    "        soma = soma + num\n",
    "        multiplicacao = multiplicacao * num\n",
    "    print(\" os numero sao: {}\".format(vetor))\n",
    "    print(soma)\n",
    "    print(multiplicacao)"
   ]
  },
  {
   "cell_type": "code",
   "execution_count": 36,
   "metadata": {},
   "outputs": [],
   "source": [
    "def ex_10():\n",
    "    pessoas = []\n",
    "    for i in range(0,5):\n",
    "        dados = []\n",
    "        idade = int(input(\"Digite Idade: \"))\n",
    "        altura = float(input(\"Digite Altura: \"))\n",
    "        dados.append(idade)\n",
    "        dados.append(altura)\n",
    "        pessoas.append(dados)\n",
    "    pessoas.reverse()\n",
    "    print(pessoas)"
   ]
  },
  {
   "cell_type": "code",
   "execution_count": 37,
   "metadata": {},
   "outputs": [],
   "source": [
    "def ex_11():\n",
    "    A = [x for x in range(10)]\n",
    "    soma = 0\n",
    "    for x in A:\n",
    "        print(x**2) \n",
    "        soma= soma + x**2\n",
    "    print(\"Soma: \",soma)"
   ]
  },
  {
   "cell_type": "code",
   "execution_count": 38,
   "metadata": {},
   "outputs": [],
   "source": [
    "def ex_12():\n",
    "    A = [x for x in range(5,55,5)]\n",
    "    B = [x for x in range(6,66,6)]\n",
    "    vetor_misto = []\n",
    "    for x in range(0, 10):\n",
    "        vetor_misto.append(A[x])\n",
    "        vetor_misto.append(B[x])\n",
    "\n",
    "    print(A)\n",
    "    print(B)\n",
    "    print(vetor_misto)"
   ]
  },
  {
   "cell_type": "code",
   "execution_count": 39,
   "metadata": {},
   "outputs": [],
   "source": [
    "def run():\n",
    "    ex_02()\n",
    "    ex_03()\n",
    "    ex_04()\n",
    "    ex_05()\n",
    "    ex_06()\n",
    "    ex_07()\n",
    "    ex_08()\n",
    "    ex_09()\n",
    "    ex_10()\n",
    "    ex_11()\n",
    "    ex_12()  "
   ]
  },
  {
   "cell_type": "markdown",
   "metadata": {},
   "source": [
    "## Estrutura de Decisão"
   ]
  },
  {
   "cell_type": "code",
   "execution_count": 1,
   "metadata": {},
   "outputs": [],
   "source": [
    "def ex_16():\n",
    "    num_1 = int(input(\"Digite o Primeiro numero: \"))\n",
    "    num_2 = int(input(\"Digite o Segundo numero: \"))  \n",
    "    if(num_1 > num_2 ):\n",
    "        print(\"O numero MAIOR e {}\".format(num_1))\n",
    "    elif(num_2 > num_1):\n",
    "        print(\"O numero MAIOR e {}\".format(num_2))\n",
    "    else:\n",
    "        print(\"Sao Iguais.\")"
   ]
  },
  {
   "cell_type": "code",
   "execution_count": 2,
   "metadata": {},
   "outputs": [],
   "source": [
    "def ex_17():\n",
    "    num_1 = int(input(\"Digite o Primeiro numero: \"))\n",
    "    if(num_1 > 0):\n",
    "        print(\"Valor e POSITIVO.\")    \n",
    "    elif(num_1 < 0):\n",
    "        print(\"Valor e NEGATIVO.\")  \n",
    "    else:\n",
    "        print(\"Valor e 0\")"
   ]
  },
  {
   "cell_type": "code",
   "execution_count": 3,
   "metadata": {},
   "outputs": [],
   "source": [
    "def ex_18():\n",
    "    sexo = input(\"Digite uma letra F ou M \").upper().strip()      \n",
    "    if(sexo == \"M\"):\n",
    "        print(\"M - Masculino\") \n",
    "    elif(sexo == \"F\"):\n",
    "        print(\"F - Feminino\")\n",
    "    else:\n",
    "        print(\"Sexo Inválido\")"
   ]
  },
  {
   "cell_type": "code",
   "execution_count": 4,
   "metadata": {},
   "outputs": [],
   "source": [
    "def ex_19():\n",
    "    letra=input(\"Digite uma Letra \").upper().strip()\n",
    "    vogais = [\"A\", \"E\", \"I\", \"O\", \"U\"]\n",
    "    if(letra in vogais):\n",
    "        print(\"isto e uma vogal {} \".format(letra))\n",
    "    elif(letra not in vogais):\n",
    "        print(\"isto e uma consoante {} \".format(letra))\n",
    "    else:\n",
    "        print(\"Valor digitador incorreto.\")  "
   ]
  },
  {
   "cell_type": "code",
   "execution_count": 5,
   "metadata": {},
   "outputs": [],
   "source": [
    "def ex_20():\n",
    "    notas=[]\n",
    "    media=0.0\n",
    "    for i in range(0,2):\n",
    "        notas.append(float(input(\"Digite NOta{}: \".format(i+1))))\n",
    "    media=sum(notas)/len(notas)\n",
    "    if(media >= 7.0 and media <= 9.9):\n",
    "        print(\"Aprovado\")\n",
    "    elif(media<7.0):\n",
    "        print(\"Reprovado\")\n",
    "    elif(media == 10.0):\n",
    "        print(\"Aprovado com Distinção\")\n",
    "    print(media)"
   ]
  },
  {
   "cell_type": "code",
   "execution_count": 6,
   "metadata": {},
   "outputs": [],
   "source": [
    "def ex_21():\n",
    "    numero =[]\n",
    "    for i in range(0,3):\n",
    "        numero.append(float(input(\"Digite um Numero{}: \".format(i+1))))\n",
    "    print(max(numero))"
   ]
  },
  {
   "cell_type": "code",
   "execution_count": 7,
   "metadata": {},
   "outputs": [],
   "source": [
    "def ex_22():\n",
    "    numero =[]\n",
    "    for i in range(0,3):\n",
    "        numero.append(int(input(\"Digite um Numero inteiro positivo {}: \".format(i+1)))) \n",
    "    numero.sort(key=int, reverse=True)\n",
    "    print(numero)"
   ]
  },
  {
   "cell_type": "code",
   "execution_count": 8,
   "metadata": {},
   "outputs": [],
   "source": [
    "def ex_23():\n",
    "    palavra = input(\"Digitar M-matutino ou V-Vespertino ou N- Noturno \") \n",
    "    palavra = palavra.strip().upper()\n",
    "    if(palavra == \"M\"):\n",
    "        print(\"Bom Dia!\")\n",
    "    elif(palavra == \"V\"):\n",
    "        print(\"Boa Tarde!\")\n",
    "    elif(palavra == \"N\"):\n",
    "        print(\"Boa Noite!\")\n",
    "    else:\n",
    "        print(\"Valor Invalido!!!\")"
   ]
  },
  {
   "cell_type": "code",
   "execution_count": 9,
   "metadata": {},
   "outputs": [],
   "source": [
    "def ex_25():\n",
    "    dia_da_semana = int(input(\"Digite dia correspondente da Semana: \"))\n",
    "    semana = [\" \",\"Domingo\", \"Segunda-feira\", \"Terca-feira\", \"Quarta-feira\", \"Quinta-feira\", \"Sexta-feira\", \"Sabado\"]\n",
    "    if(1 <= dia_da_semana <= 7):\n",
    "        print(semana[dia_da_semana]) \n",
    "    else:\n",
    "        print(\"Valor Invalido!!!\")"
   ]
  },
  {
   "cell_type": "code",
   "execution_count": 10,
   "metadata": {},
   "outputs": [],
   "source": [
    "def ex_26():\n",
    "    notas = []\n",
    "    for i in  range(0,2):\n",
    "        notas.append(float(input(\"Digite nota do Aluno \")))\n",
    "    media = round( sum(notas)/ len(notas),1)\n",
    "    if(9.0 <= media <= 10.0):\n",
    "        conceito = \"A\"\n",
    "    elif(7.5  <= media <= 9.0):\n",
    "        conceito = \"B\"\n",
    "    elif( 6.0<= media <= 7.5):\n",
    "        conceito =\"C\"\n",
    "    elif(4.0<= media <= 6.0 ):\n",
    "        conceito=\"D\"\n",
    "    else:\n",
    "        conceito=\"E\"\n",
    "    conceito_aprovado=[\"A\",\"B\",\"C\"]  \n",
    "    if(conceito in conceito_aprovado):\n",
    "        msg = \"APROVADO\"\n",
    "    else:\n",
    "        msg = \"REPROVADO\"\n",
    "    print(\"Notas: {}\".format(notas))\n",
    "    print(\"Media: {}\".format(media))    \n",
    "    print(conceito)\n",
    "    print(msg)"
   ]
  },
  {
   "cell_type": "code",
   "execution_count": 11,
   "metadata": {},
   "outputs": [],
   "source": [
    "def run():\n",
    "    ex_16()\n",
    "    ex_17()\n",
    "    ex_18()\n",
    "    ex_19()\n",
    "    ex_20()\n",
    "    ex_21()\n",
    "    ex_22()\n",
    "    ex_23()\n",
    "    ex_25()\n",
    "    ex_26()"
   ]
  },
  {
   "cell_type": "code",
   "execution_count": 12,
   "metadata": {},
   "outputs": [
    {
     "name": "stdout",
     "output_type": "stream",
     "text": [
      "Digite o Primeiro numero: 1\n",
      "Digite o Segundo numero: 25\n",
      "O numero MAIOR e 25\n",
      "Digite o Primeiro numero: 10\n",
      "Valor e POSITIVO.\n",
      "Digite uma letra F ou M m\n",
      "M - Masculino\n",
      "Digite uma Letra p\n",
      "isto e uma consoante P \n",
      "Digite NOta1: 10\n",
      "Digite NOta2: 10\n",
      "Aprovado com Distinção\n",
      "10.0\n",
      "Digite um Numero1: 15\n",
      "Digite um Numero2: 5\n",
      "Digite um Numero3: 50\n",
      "50.0\n",
      "Digite um Numero inteiro positivo 1: 1\n",
      "Digite um Numero inteiro positivo 2: 59\n",
      "Digite um Numero inteiro positivo 3: 85\n",
      "[85, 59, 1]\n",
      "Digitar M-matutino ou V-Vespertino ou N- Noturno m\n",
      "Bom Dia!\n",
      "Digite dia correspondente da Semana: 6\n",
      "Sexta-feira\n",
      "Digite nota do Aluno 10\n",
      "Digite nota do Aluno 9\n",
      "Notas: [10.0, 9.0]\n",
      "Media: 9.5\n",
      "A\n",
      "APROVADO\n"
     ]
    }
   ],
   "source": [
    "run()"
   ]
  },
  {
   "cell_type": "markdown",
   "metadata": {},
   "source": [
    "## Estrutura de Repetisão"
   ]
  },
  {
   "cell_type": "code",
   "execution_count": 13,
   "metadata": {},
   "outputs": [],
   "source": [
    "def ex_29():\n",
    "    valor_valido = True\n",
    "    while valor_valido :\n",
    "        valor = int(input(\"Digite uma Nota, entre Zero e Dez \"))\n",
    "        if(valor >= 0 and valor <= 10):\n",
    "            valor_valido = False\n",
    "            print(\"Valor Valido.\")\n",
    "        else:\n",
    "            print(\"Valor Invalido {}\".format(valor))"
   ]
  },
  {
   "cell_type": "code",
   "execution_count": 14,
   "metadata": {},
   "outputs": [],
   "source": [
    "def ex_39():\n",
    "    for i in range(1,11):\n",
    "        print(\"{}\".format(i))\n",
    "    for i in range(1,11):\n",
    "        print(\"{}\".format(i,end=\"\"))"
   ]
  },
  {
   "cell_type": "code",
   "execution_count": 15,
   "metadata": {},
   "outputs": [],
   "source": [
    "def ex_40():\n",
    "    numeros=[]\n",
    "    for i in range(0 ,5):\n",
    "        numeros.append( float(input(\"Digite um Numero: \")))\n",
    "    print(\"O maior Numero: {}\".format(max(numeros)))"
   ]
  },
  {
   "cell_type": "code",
   "execution_count": 16,
   "metadata": {},
   "outputs": [],
   "source": [
    "def ex_41():\n",
    "    numeros = []\n",
    "    for i in range(0,5):\n",
    "        numeros.append(float(input(\"Digite numero: \")))\n",
    "    print(\"Soma: {}\".format(sum(numeros)))\n",
    "    print(\"Media: {0:.2f}\".format(sum(numeros)/len(numeros)))"
   ]
  },
  {
   "cell_type": "code",
   "execution_count": 17,
   "metadata": {},
   "outputs": [],
   "source": [
    "def ex_42():\n",
    "    for i in range(1,51):\n",
    "        if(not i%2 == 0):\n",
    "            print(\"Numero Impar {}\".format(i))"
   ]
  },
  {
   "cell_type": "code",
   "execution_count": 18,
   "metadata": {},
   "outputs": [],
   "source": [
    "def ex_44():\n",
    "    qtd_turma = int(input(\"Digite quantidade de Turma: \"))\n",
    "    qnt_aluno_por_turma = []\n",
    "    if(qtd_turma > 0):\n",
    "        i = 0\n",
    "        while i < qtd_turma:\n",
    "            qnt_aluno = int(input(\"Digite quantidade de alunos nesta Turma: \"))\n",
    "            if(qnt_aluno <= 40):\n",
    "                qnt_aluno_por_turma.append(qnt_aluno)\n",
    "                i = i +1\n",
    "            else:\n",
    "                print(\"Esta Turma Nao pode ter mais de 40 Alunos.\")\n",
    "    print(qnt_aluno_por_turma)\n",
    "    print(\"A media de Alunos por Turma e {0:.2f}\".format(sum(qnt_aluno_por_turma)/len(qnt_aluno_por_turma)))\n"
   ]
  },
  {
   "cell_type": "code",
   "execution_count": 19,
   "metadata": {},
   "outputs": [],
   "source": [
    "def ex_45():\n",
    "    qtd_cd = int(input(\"Digite quantidade de CD: \"))\n",
    "    valor_cada_cd = []\n",
    "    if(qtd_cd > 0):\n",
    "        for i in range(0 ,qtd_cd):\n",
    "            valor_cada_cd.append(float(input(\"Digite valor do CD: \")))\n",
    "    print(\"Valor Total investido: {0:.2f}\".format(sum(valor_cada_cd)))\n",
    "    print(\"Valor Medio: {0:.2f}\".format(sum(valor_cada_cd)/len(valor_cada_cd)))"
   ]
  },
  {
   "cell_type": "code",
   "execution_count": 20,
   "metadata": {},
   "outputs": [],
   "source": [
    "def ex_46():\n",
    "    temperaturas=[]\n",
    "    condicao = True\n",
    "    while condicao:\n",
    "        temperatura = input(\"Digite valor da Temperatura ou F para fim. \")\n",
    "        if(temperatura.upper().strip() != 'F'):\n",
    "            temperaturas.append(float(temperatura))\n",
    "        else:\n",
    "            condicao =False\n",
    "    print(\"Temperatura Minima e {}C\".format(min(temperaturas)))\n",
    "    print(\"Temperatura Maximo e {}C\".format(max(temperaturas)))\n",
    "    print(\"Temperatura Media: {}C\".format(sum(temperaturas)/len(temperaturas)))\n",
    "    print(temperaturas)"
   ]
  },
  {
   "cell_type": "code",
   "execution_count": 21,
   "metadata": {},
   "outputs": [],
   "source": [
    "def ex_47():\n",
    "    num = int(input(\"Digite um numero inteiro positivo: \"))\n",
    "    primo=\"Primo\"\n",
    "    if(num <= 1):\n",
    "        primo=\"Não é um número Primo.\"\n",
    "    for i in range(2,num):\n",
    "        if (num%i== 0 and i != 1):\n",
    "            primo=\"Não é um número Primo.\"\n",
    "    print(primo)"
   ]
  },
  {
   "cell_type": "code",
   "execution_count": 22,
   "metadata": {},
   "outputs": [],
   "source": [
    "def ex_48():\n",
    "    num = int(input(\"Digite um Numero Inteiro Posistivo para gera uma lista dos Numeros primos: \"))\n",
    "    lista = []\n",
    "    for i in range(1,num + 1):\n",
    "        j = 2\n",
    "        while  i >= j:\n",
    "            if(  i % j == 0 and i != 1):\n",
    "                if(i==j):\n",
    "                    lista.append(i)\n",
    "                break\n",
    "            j += 1\n",
    "\n",
    "    print(\"Números primos: \", lista)"
   ]
  },
  {
   "cell_type": "code",
   "execution_count": 23,
   "metadata": {},
   "outputs": [],
   "source": [
    "def run():\n",
    "    ex_29()\n",
    "    ex_39()\n",
    "    ex_40()\n",
    "    ex_41()\n",
    "    ex_42()\n",
    "    ex_44()\n",
    "    ex_45()\n",
    "    ex_46()\n",
    "    ex_47()\n",
    "    ex_48()"
   ]
  },
  {
   "cell_type": "code",
   "execution_count": 24,
   "metadata": {},
   "outputs": [
    {
     "name": "stdout",
     "output_type": "stream",
     "text": [
      "Digite uma Nota, entre Zero e Dez 10\n",
      "Valor Valido.\n",
      "1\n",
      "2\n",
      "3\n",
      "4\n",
      "5\n",
      "6\n",
      "7\n",
      "8\n",
      "9\n",
      "10\n",
      "1\n",
      "2\n",
      "3\n",
      "4\n",
      "5\n",
      "6\n",
      "7\n",
      "8\n",
      "9\n",
      "10\n",
      "Digite um Numero: 10\n",
      "Digite um Numero: 2\n",
      "Digite um Numero: 6\n",
      "Digite um Numero: 6\n",
      "Digite um Numero: 6\n",
      "O maior Numero: 10.0\n",
      "Digite numero: 6\n",
      "Digite numero: 6\n",
      "Digite numero: 9\n",
      "Digite numero: 6\n",
      "Digite numero: 5\n",
      "Soma: 32.0\n",
      "Media: 6.40\n",
      "Numero Impar 1\n",
      "Numero Impar 3\n",
      "Numero Impar 5\n",
      "Numero Impar 7\n",
      "Numero Impar 9\n",
      "Numero Impar 11\n",
      "Numero Impar 13\n",
      "Numero Impar 15\n",
      "Numero Impar 17\n",
      "Numero Impar 19\n",
      "Numero Impar 21\n",
      "Numero Impar 23\n",
      "Numero Impar 25\n",
      "Numero Impar 27\n",
      "Numero Impar 29\n",
      "Numero Impar 31\n",
      "Numero Impar 33\n",
      "Numero Impar 35\n",
      "Numero Impar 37\n",
      "Numero Impar 39\n",
      "Numero Impar 41\n",
      "Numero Impar 43\n",
      "Numero Impar 45\n",
      "Numero Impar 47\n",
      "Numero Impar 49\n",
      "Digite quantidade de Turma: 1\n",
      "Digite quantidade de alunos nesta Turma: 20\n",
      "[20]\n",
      "A media de Alunos por Turma e 20.00\n",
      "Digite quantidade de CD: 2\n",
      "Digite valor do CD: 2\n",
      "Digite valor do CD: 1\n",
      "Valor Total investido: 3.00\n",
      "Valor Medio: 1.50\n",
      "Digite valor da Temperatura ou F para fim. 1\n",
      "Digite valor da Temperatura ou F para fim. 10\n",
      "Digite valor da Temperatura ou F para fim. f\n",
      "Temperatura Minima e 1.0C\n",
      "Temperatura Maximo e 10.0C\n",
      "Temperatura Media: 5.5C\n",
      "[1.0, 10.0]\n",
      "Digite um numero inteiro positivo: 5\n",
      "Primo\n",
      "Digite um Numero Inteiro Posistivo para gera uma lista dos Numeros primos: 101\n",
      "Números primos:  [2, 3, 5, 7, 11, 13, 17, 19, 23, 29, 31, 37, 41, 43, 47, 53, 59, 61, 67, 71, 73, 79, 83, 89, 97, 101]\n"
     ]
    }
   ],
   "source": [
    "run()"
   ]
  },
  {
   "cell_type": "markdown",
   "metadata": {},
   "source": [
    "# Aula 3"
   ]
  },
  {
   "cell_type": "markdown",
   "metadata": {},
   "source": [
    "## Arquivo"
   ]
  },
  {
   "cell_type": "code",
   "execution_count": null,
   "metadata": {},
   "outputs": [],
   "source": [
    "#Autor: RodrigoTenorio\n",
    "\n",
    "\n",
    "def ex_01():\n",
    "    ips = open(\"ip.txt\",\"r\")\n",
    "    ip_invalidos=[]\n",
    "    ip_validos=[]\n",
    "    for ip in ips:\n",
    "        numero=ip.split('.')\n",
    "        if( int(numero[0]) <= 255 and int(numero[1]) <= 255 and int(numero[2]) <= 255 and int(numero[3]) <= 255):\n",
    "            ip_validos.append(ip)\n",
    "        else:\n",
    "            ip_invalidos.append(ip)\n",
    "\n",
    "    arq = open(\"lista_ip.txt\",\"w\")\n",
    "    texto =\"[Endereços válidos:]\"+\"\\n\"\n",
    "    arq.write(texto)\n",
    "    for ip_ in ip_validos:\n",
    "        arq.write(ip_)\n",
    "    texto =\"\\n\"+\"\\n\"+\"[Endereços inválidos:]\"+\"\\n\"\n",
    "    arq.write(texto)\n",
    "    for ip_ in ip_invalidos:\n",
    "        arq.write(ip_)\n",
    "\n",
    "    ips.close()\n",
    "    arq.close()"
   ]
  },
  {
   "cell_type": "code",
   "execution_count": null,
   "metadata": {},
   "outputs": [],
   "source": [
    "def ex_02():\n",
    "    relatrio =open(\"usuario.txt\",\"r\")\n",
    "    usuarios = []\n",
    "    espaco  = []\n",
    "    for palavra in relatrio:\n",
    "        palavra= palavra.split()\n",
    "        usuarios.append(palavra[0])\n",
    "        espaco.append(converter_byte_mega( int(palavra[1])))\n",
    "    relatrio.close()\n",
    "\n",
    "\n",
    "    arq=open(\"relatorio.txt\",\"w\")\n",
    "    cabecalho = \"ACME Inc.                 Uso do espaço em disco pelos usuários    \"+\"\\n\"\n",
    "    linhas=\"------------------------------------------------------------------------\"+\"\\n\"\n",
    "    enunciado=\"Nr. Usuário                       Espaço utilizado           % do uso\"+\"\\n\"+\"\\n\"\n",
    "    arq.write(cabecalho)\n",
    "    arq.write(linhas)\n",
    "    arq.write(enunciado)\n",
    "    con = 0\n",
    "    while con < len(usuarios):\n",
    "        arq.write(\"{}  {}                     {} MB        {}% \\n\".format(con+1, usuarios[con], espaco[con], porcento_do_uso(sum(espaco), espaco[con]) ) )\n",
    "        con +=1\n",
    "    arq.write(\"\\n\")    \n",
    "    arq.write(\"Espaço total ocupado: {} MB\\n\".format(sum(espaco)))\n",
    "    arq.write(\"Espaço médio ocupado: {} MB\".format( round(sum(espaco)/len(espaco),2 )))\n",
    "\n",
    "    arq.close()"
   ]
  },
  {
   "cell_type": "code",
   "execution_count": null,
   "metadata": {},
   "outputs": [],
   "source": [
    "def converter_byte_mega(num_bute):\n",
    "    num_mega = ( num_bute / 1024)/1024\n",
    "    return  round(num_mega,2)"
   ]
  },
  {
   "cell_type": "code",
   "execution_count": null,
   "metadata": {},
   "outputs": [],
   "source": [
    "def porcento_do_uso(total,uso):\n",
    "    valor = (uso * 100)/total\n",
    "    return round(valor,2)"
   ]
  },
  {
   "cell_type": "code",
   "execution_count": null,
   "metadata": {},
   "outputs": [],
   "source": [
    "def run():\n",
    "    ex_01()\n",
    "    ex_02()"
   ]
  },
  {
   "cell_type": "code",
   "execution_count": null,
   "metadata": {},
   "outputs": [],
   "source": []
  },
  {
   "cell_type": "code",
   "execution_count": null,
   "metadata": {},
   "outputs": [],
   "source": []
  }
 ],
 "metadata": {
  "kernelspec": {
   "display_name": "Python 3",
   "language": "python",
   "name": "python3"
  },
  "language_info": {
   "codemirror_mode": {
    "name": "ipython",
    "version": 3
   },
   "file_extension": ".py",
   "mimetype": "text/x-python",
   "name": "python",
   "nbconvert_exporter": "python",
   "pygments_lexer": "ipython3",
   "version": "3.7.4"
  }
 },
 "nbformat": 4,
 "nbformat_minor": 2
}
